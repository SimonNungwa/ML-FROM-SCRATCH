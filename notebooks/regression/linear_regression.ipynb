{
 "cells": [
  {
   "cell_type": "code",
   "execution_count": null,
   "id": "6af861fa",
   "metadata": {},
   "outputs": [],
   "source": [
    "'''\n",
    "ensure arrays are of the same length\n",
    "handle edge cases -> denominator or numerator = 0\n",
    "\n",
    "'''"
   ]
  },
  {
   "cell_type": "code",
   "execution_count": null,
   "id": "64124794",
   "metadata": {},
   "outputs": [],
   "source": [
    "def linearRegression(x, y, n):\n",
    "    # get mean value of the arrays\n",
    "    mean_x = sum(x)/n\n",
    "    mean_y = sum(y)/n\n",
    "\n",
    "    # calcuate the slope\n",
    "    "
   ]
  }
 ],
 "metadata": {
  "language_info": {
   "name": "python"
  }
 },
 "nbformat": 4,
 "nbformat_minor": 5
}
