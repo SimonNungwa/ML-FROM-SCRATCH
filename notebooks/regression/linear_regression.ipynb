{
 "cells": [
  {
   "cell_type": "markdown",
   "id": "cb6c4a28",
   "metadata": {},
   "source": [
    "# Implement LInear regression from scratch"
   ]
  },
  {
   "cell_type": "code",
   "execution_count": 2,
   "id": "64124794",
   "metadata": {},
   "outputs": [],
   "source": [
    "class LinearRegression:\n",
    "    def __init__(self):\n",
    "       self.coefficient = 0\n",
    "       self.intercept = 0\n",
    "\n",
    "    def fit(self, X, y):\n",
    "        n = len(X)\n",
    "        mean_x = sum(X) / n\n",
    "        mean_y = sum(y) / n\n",
    "\n",
    "        numerator = sum((X[i] - mean_x) * (y[i] - mean_y) for i in range(n))\n",
    "        denominator = sum((X[i] - mean_x) ** 2 for i in range(n))\n",
    "\n",
    "        self.coefficient = numerator / denominator\n",
    "        self.intercept = mean_y - self.coefficient * mean_x\n",
    "\n",
    "    def predict(self, X):\n",
    "        return [self.coefficient * x + self.intercept for x in X]\n",
    "    \n",
    "\n",
    "    "
   ]
  },
  {
   "cell_type": "markdown",
   "id": "23323314",
   "metadata": {},
   "source": [
    "## Finding the error value"
   ]
  },
  {
   "cell_type": "code",
   "execution_count": null,
   "id": "b847d768",
   "metadata": {},
   "outputs": [],
   "source": [
    "def mean_squared_error(y_true, y_pred):\n",
    "    n = len(y_true)\n",
    "    return sum((y_true[i] - y_pred[i]) ** 2 for i in range(n)) / n\n"
   ]
  },
  {
   "cell_type": "markdown",
   "id": "5838e6d9",
   "metadata": {},
   "source": [
    "## run"
   ]
  },
  {
   "cell_type": "markdown",
   "id": "b98a6e3b",
   "metadata": {},
   "source": [
    "model = LinearRegression()\n",
    "model.fit(X, y)\n",
    "preds = model.predict(X)\n",
    "\n",
    "error = mean_squared_error(y, preds)\n",
    "print(\"MSE:\", error)"
   ]
  }
 ],
 "metadata": {
  "kernelspec": {
   "display_name": ".venv",
   "language": "python",
   "name": "python3"
  },
  "language_info": {
   "codemirror_mode": {
    "name": "ipython",
    "version": 3
   },
   "file_extension": ".py",
   "mimetype": "text/x-python",
   "name": "python",
   "nbconvert_exporter": "python",
   "pygments_lexer": "ipython3",
   "version": "3.13.3"
  }
 },
 "nbformat": 4,
 "nbformat_minor": 5
}
