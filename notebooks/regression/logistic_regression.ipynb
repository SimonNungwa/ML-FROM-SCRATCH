{
 "cells": [
  {
   "cell_type": "markdown",
   "id": "a4d96fbb",
   "metadata": {},
   "source": [
    "# Implement logistic regression"
   ]
  },
  {
   "cell_type": "code",
   "execution_count": null,
   "id": "1249ed91",
   "metadata": {},
   "outputs": [],
   "source": [
    "class LogisticRegression:\n",
    "    def __init__(self):\n",
    "        pass"
   ]
  },
  {
   "cell_type": "code",
   "execution_count": null,
   "id": "45589235",
   "metadata": {},
   "outputs": [],
   "source": []
  }
 ],
 "metadata": {
  "kernelspec": {
   "display_name": ".venv",
   "language": "python",
   "name": "python3"
  },
  "language_info": {
   "name": "python",
   "version": "3.13.3"
  }
 },
 "nbformat": 4,
 "nbformat_minor": 5
}
